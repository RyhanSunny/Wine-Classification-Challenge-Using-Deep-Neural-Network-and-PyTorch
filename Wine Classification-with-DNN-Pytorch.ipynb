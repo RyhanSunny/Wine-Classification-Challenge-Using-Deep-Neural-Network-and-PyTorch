{
 "cells": [
  {
   "cell_type": "markdown",
   "id": "b8ff003d",
   "metadata": {},
   "source": [
    "# Classification Challenge - using DNN and PyTorch\n",
    "## Ryhan\n"
   ]
  },
  {
   "cell_type": "code",
   "execution_count": 6,
   "id": "ce6750c8",
   "metadata": {},
   "outputs": [],
   "source": [
    "import numpy as np\n",
    "import pandas as pd\n",
    "import torch\n",
    "import torch.nn as nn\n",
    "import torch.optim as optim\n",
    "from sklearn.model_selection import train_test_split\n",
    "from sklearn.preprocessing import StandardScaler"
   ]
  },
  {
   "cell_type": "markdown",
   "id": "5b6ea15d",
   "metadata": {},
   "source": [
    "Let's first load the dataset and take a look at some random samples."
   ]
  },
  {
   "cell_type": "code",
   "execution_count": 7,
   "id": "16b88090",
   "metadata": {},
   "outputs": [
    {
     "data": {
      "text/html": [
       "<div>\n",
       "<style scoped>\n",
       "    .dataframe tbody tr th:only-of-type {\n",
       "        vertical-align: middle;\n",
       "    }\n",
       "\n",
       "    .dataframe tbody tr th {\n",
       "        vertical-align: top;\n",
       "    }\n",
       "\n",
       "    .dataframe thead th {\n",
       "        text-align: right;\n",
       "    }\n",
       "</style>\n",
       "<table border=\"1\" class=\"dataframe\">\n",
       "  <thead>\n",
       "    <tr style=\"text-align: right;\">\n",
       "      <th></th>\n",
       "      <th>Alcohol</th>\n",
       "      <th>Malic_acid</th>\n",
       "      <th>Ash</th>\n",
       "      <th>Alcalinity</th>\n",
       "      <th>Magnesium</th>\n",
       "      <th>Phenols</th>\n",
       "      <th>Flavanoids</th>\n",
       "      <th>Nonflavanoids</th>\n",
       "      <th>Proanthocyanins</th>\n",
       "      <th>Color_intensity</th>\n",
       "      <th>Hue</th>\n",
       "      <th>OD280_315_of_diluted_wines</th>\n",
       "      <th>Proline</th>\n",
       "      <th>WineVariety</th>\n",
       "    </tr>\n",
       "  </thead>\n",
       "  <tbody>\n",
       "    <tr>\n",
       "      <th>14</th>\n",
       "      <td>14.38</td>\n",
       "      <td>1.87</td>\n",
       "      <td>2.38</td>\n",
       "      <td>12.0</td>\n",
       "      <td>102</td>\n",
       "      <td>3.30</td>\n",
       "      <td>3.64</td>\n",
       "      <td>0.29</td>\n",
       "      <td>2.96</td>\n",
       "      <td>7.50</td>\n",
       "      <td>1.20</td>\n",
       "      <td>3.00</td>\n",
       "      <td>1547</td>\n",
       "      <td>0</td>\n",
       "    </tr>\n",
       "    <tr>\n",
       "      <th>36</th>\n",
       "      <td>13.28</td>\n",
       "      <td>1.64</td>\n",
       "      <td>2.84</td>\n",
       "      <td>15.5</td>\n",
       "      <td>110</td>\n",
       "      <td>2.60</td>\n",
       "      <td>2.68</td>\n",
       "      <td>0.34</td>\n",
       "      <td>1.36</td>\n",
       "      <td>4.60</td>\n",
       "      <td>1.09</td>\n",
       "      <td>2.78</td>\n",
       "      <td>880</td>\n",
       "      <td>0</td>\n",
       "    </tr>\n",
       "    <tr>\n",
       "      <th>112</th>\n",
       "      <td>11.76</td>\n",
       "      <td>2.68</td>\n",
       "      <td>2.92</td>\n",
       "      <td>20.0</td>\n",
       "      <td>103</td>\n",
       "      <td>1.75</td>\n",
       "      <td>2.03</td>\n",
       "      <td>0.60</td>\n",
       "      <td>1.05</td>\n",
       "      <td>3.80</td>\n",
       "      <td>1.23</td>\n",
       "      <td>2.50</td>\n",
       "      <td>607</td>\n",
       "      <td>1</td>\n",
       "    </tr>\n",
       "    <tr>\n",
       "      <th>152</th>\n",
       "      <td>13.11</td>\n",
       "      <td>1.90</td>\n",
       "      <td>2.75</td>\n",
       "      <td>25.5</td>\n",
       "      <td>116</td>\n",
       "      <td>2.20</td>\n",
       "      <td>1.28</td>\n",
       "      <td>0.26</td>\n",
       "      <td>1.56</td>\n",
       "      <td>7.10</td>\n",
       "      <td>0.61</td>\n",
       "      <td>1.33</td>\n",
       "      <td>425</td>\n",
       "      <td>2</td>\n",
       "    </tr>\n",
       "    <tr>\n",
       "      <th>40</th>\n",
       "      <td>13.56</td>\n",
       "      <td>1.71</td>\n",
       "      <td>2.31</td>\n",
       "      <td>16.2</td>\n",
       "      <td>117</td>\n",
       "      <td>3.15</td>\n",
       "      <td>3.29</td>\n",
       "      <td>0.34</td>\n",
       "      <td>2.34</td>\n",
       "      <td>6.13</td>\n",
       "      <td>0.95</td>\n",
       "      <td>3.38</td>\n",
       "      <td>795</td>\n",
       "      <td>0</td>\n",
       "    </tr>\n",
       "    <tr>\n",
       "      <th>135</th>\n",
       "      <td>12.60</td>\n",
       "      <td>2.46</td>\n",
       "      <td>2.20</td>\n",
       "      <td>18.5</td>\n",
       "      <td>94</td>\n",
       "      <td>1.62</td>\n",
       "      <td>0.66</td>\n",
       "      <td>0.63</td>\n",
       "      <td>0.94</td>\n",
       "      <td>7.10</td>\n",
       "      <td>0.73</td>\n",
       "      <td>1.58</td>\n",
       "      <td>695</td>\n",
       "      <td>2</td>\n",
       "    </tr>\n",
       "    <tr>\n",
       "      <th>124</th>\n",
       "      <td>11.87</td>\n",
       "      <td>4.31</td>\n",
       "      <td>2.39</td>\n",
       "      <td>21.0</td>\n",
       "      <td>82</td>\n",
       "      <td>2.86</td>\n",
       "      <td>3.03</td>\n",
       "      <td>0.21</td>\n",
       "      <td>2.91</td>\n",
       "      <td>2.80</td>\n",
       "      <td>0.75</td>\n",
       "      <td>3.64</td>\n",
       "      <td>380</td>\n",
       "      <td>1</td>\n",
       "    </tr>\n",
       "    <tr>\n",
       "      <th>75</th>\n",
       "      <td>11.66</td>\n",
       "      <td>1.88</td>\n",
       "      <td>1.92</td>\n",
       "      <td>16.0</td>\n",
       "      <td>97</td>\n",
       "      <td>1.61</td>\n",
       "      <td>1.57</td>\n",
       "      <td>0.34</td>\n",
       "      <td>1.15</td>\n",
       "      <td>3.80</td>\n",
       "      <td>1.23</td>\n",
       "      <td>2.14</td>\n",
       "      <td>428</td>\n",
       "      <td>1</td>\n",
       "    </tr>\n",
       "    <tr>\n",
       "      <th>138</th>\n",
       "      <td>13.49</td>\n",
       "      <td>3.59</td>\n",
       "      <td>2.19</td>\n",
       "      <td>19.5</td>\n",
       "      <td>88</td>\n",
       "      <td>1.62</td>\n",
       "      <td>0.48</td>\n",
       "      <td>0.58</td>\n",
       "      <td>0.88</td>\n",
       "      <td>5.70</td>\n",
       "      <td>0.81</td>\n",
       "      <td>1.82</td>\n",
       "      <td>580</td>\n",
       "      <td>2</td>\n",
       "    </tr>\n",
       "    <tr>\n",
       "      <th>61</th>\n",
       "      <td>12.64</td>\n",
       "      <td>1.36</td>\n",
       "      <td>2.02</td>\n",
       "      <td>16.8</td>\n",
       "      <td>100</td>\n",
       "      <td>2.02</td>\n",
       "      <td>1.41</td>\n",
       "      <td>0.53</td>\n",
       "      <td>0.62</td>\n",
       "      <td>5.75</td>\n",
       "      <td>0.98</td>\n",
       "      <td>1.59</td>\n",
       "      <td>450</td>\n",
       "      <td>1</td>\n",
       "    </tr>\n",
       "  </tbody>\n",
       "</table>\n",
       "</div>"
      ],
      "text/plain": [
       "     Alcohol  Malic_acid   Ash  Alcalinity  Magnesium  Phenols  Flavanoids  \\\n",
       "14     14.38        1.87  2.38        12.0        102     3.30        3.64   \n",
       "36     13.28        1.64  2.84        15.5        110     2.60        2.68   \n",
       "112    11.76        2.68  2.92        20.0        103     1.75        2.03   \n",
       "152    13.11        1.90  2.75        25.5        116     2.20        1.28   \n",
       "40     13.56        1.71  2.31        16.2        117     3.15        3.29   \n",
       "135    12.60        2.46  2.20        18.5         94     1.62        0.66   \n",
       "124    11.87        4.31  2.39        21.0         82     2.86        3.03   \n",
       "75     11.66        1.88  1.92        16.0         97     1.61        1.57   \n",
       "138    13.49        3.59  2.19        19.5         88     1.62        0.48   \n",
       "61     12.64        1.36  2.02        16.8        100     2.02        1.41   \n",
       "\n",
       "     Nonflavanoids  Proanthocyanins  Color_intensity   Hue  \\\n",
       "14            0.29             2.96             7.50  1.20   \n",
       "36            0.34             1.36             4.60  1.09   \n",
       "112           0.60             1.05             3.80  1.23   \n",
       "152           0.26             1.56             7.10  0.61   \n",
       "40            0.34             2.34             6.13  0.95   \n",
       "135           0.63             0.94             7.10  0.73   \n",
       "124           0.21             2.91             2.80  0.75   \n",
       "75            0.34             1.15             3.80  1.23   \n",
       "138           0.58             0.88             5.70  0.81   \n",
       "61            0.53             0.62             5.75  0.98   \n",
       "\n",
       "     OD280_315_of_diluted_wines  Proline  WineVariety  \n",
       "14                         3.00     1547            0  \n",
       "36                         2.78      880            0  \n",
       "112                        2.50      607            1  \n",
       "152                        1.33      425            2  \n",
       "40                         3.38      795            0  \n",
       "135                        1.58      695            2  \n",
       "124                        3.64      380            1  \n",
       "75                         2.14      428            1  \n",
       "138                        1.82      580            2  \n",
       "61                         1.59      450            1  "
      ]
     },
     "execution_count": 7,
     "metadata": {},
     "output_type": "execute_result"
    }
   ],
   "source": [
    "# Load the training dataset\n",
    "data = pd.read_csv('wine.csv')\n",
    "data.sample(10)\n"
   ]
  },
  {
   "cell_type": "markdown",
   "id": "4f598ad0",
   "metadata": {},
   "source": [
    "### The dataset consists of 12 numeric features and a classification label with the following classes:\n",
    "\n",
    " "
   ]
  },
  {
   "cell_type": "markdown",
   "id": "d339ff66",
   "metadata": {},
   "source": [
    "    0 (variety A)\\\n",
    "   \n",
    "    1 (variety B)\n",
    "    \n",
    "    2 (variety C)\n",
    "\n",
    "Our goal is to train a classification model that achieves an overall Recall metric of over 0.95 (95%)."
   ]
  },
  {
   "cell_type": "code",
   "execution_count": 2,
   "id": "d7a92016",
   "metadata": {},
   "outputs": [
    {
     "name": "stdout",
     "output_type": "stream",
     "text": [
      "Missing values for each feature:\n",
      "Alcohol                       0\n",
      "Malic_acid                    0\n",
      "Ash                           0\n",
      "Alcalinity                    0\n",
      "Magnesium                     0\n",
      "Phenols                       0\n",
      "Flavanoids                    0\n",
      "Nonflavanoids                 0\n",
      "Proanthocyanins               0\n",
      "Color_intensity               0\n",
      "Hue                           0\n",
      "OD280_315_of_diluted_wines    0\n",
      "Proline                       0\n",
      "WineVariety                   0\n",
      "dtype: int64\n"
     ]
    }
   ],
   "source": [
    "# Check for missing values\n",
    "print(\"Missing values for each feature:\")\n",
    "print(data.isnull().sum())"
   ]
  },
  {
   "cell_type": "code",
   "execution_count": 23,
   "id": "cc336a6e",
   "metadata": {},
   "outputs": [
    {
     "name": "stdout",
     "output_type": "stream",
     "text": [
      "Index(['Alcohol', 'Malic_acid', 'Ash', 'Alcalinity', 'Magnesium', 'Phenols',\n",
      "       'Flavanoids', 'Nonflavanoids', 'Proanthocyanins', 'Color_intensity',\n",
      "       'Hue', 'OD280_315_of_diluted_wines', 'Proline', 'WineVariety'],\n",
      "      dtype='object')\n"
     ]
    }
   ],
   "source": [
    "print(data.columns)"
   ]
  },
  {
   "cell_type": "code",
   "execution_count": 32,
   "id": "71b314bc",
   "metadata": {},
   "outputs": [
    {
     "name": "stdout",
     "output_type": "stream",
     "text": [
      "0      0\n",
      "1      0\n",
      "2      0\n",
      "3      0\n",
      "4      0\n",
      "      ..\n",
      "173    2\n",
      "174    2\n",
      "175    2\n",
      "176    2\n",
      "177    2\n",
      "Name: WineVariety, Length: 178, dtype: int64\n"
     ]
    }
   ],
   "source": [
    "print(data.WineVariety)"
   ]
  },
  {
   "cell_type": "code",
   "execution_count": 34,
   "id": "bfa48af4",
   "metadata": {},
   "outputs": [
    {
     "name": "stdout",
     "output_type": "stream",
     "text": [
      "Alcohol                       float64\n",
      "Malic_acid                    float64\n",
      "Ash                           float64\n",
      "Alcalinity                    float64\n",
      "Magnesium                       int64\n",
      "Phenols                       float64\n",
      "Flavanoids                    float64\n",
      "Nonflavanoids                 float64\n",
      "Proanthocyanins               float64\n",
      "Color_intensity               float64\n",
      "Hue                           float64\n",
      "OD280_315_of_diluted_wines    float64\n",
      "Proline                         int64\n",
      "WineVariety                     int64\n",
      "dtype: object\n"
     ]
    }
   ],
   "source": [
    "print(data.dtypes)"
   ]
  },
  {
   "cell_type": "code",
   "execution_count": 5,
   "id": "039e83b1",
   "metadata": {},
   "outputs": [
    {
     "name": "stdout",
     "output_type": "stream",
     "text": [
      "\n",
      "Distribution of target variable:\n",
      "1    71\n",
      "0    59\n",
      "2    48\n",
      "Name: WineVariety, dtype: int64\n"
     ]
    }
   ],
   "source": [
    "# Check the distribution of the target variable\n",
    "print(\"\\nDistribution of target variable:\")\n",
    "print(data['WineVariety'].value_counts())"
   ]
  },
  {
   "cell_type": "code",
   "execution_count": null,
   "id": "342f4c73",
   "metadata": {},
   "outputs": [],
   "source": []
  },
  {
   "cell_type": "markdown",
   "id": "af2ebe0a",
   "metadata": {},
   "source": [
    "# Train and evaluate a model\n",
    "\n"
   ]
  },
  {
   "cell_type": "code",
   "execution_count": 9,
   "id": "9e01381e",
   "metadata": {},
   "outputs": [],
   "source": [
    "# Separate the features and target variable\n",
    "X = data.iloc[:, :-1].values\n",
    "y = data.iloc[:, -1].values"
   ]
  },
  {
   "cell_type": "code",
   "execution_count": 10,
   "id": "86fb1a15",
   "metadata": {},
   "outputs": [],
   "source": [
    "# Split the data into training and testing sets\n",
    "X_train, X_test, y_train, y_test = train_test_split(X, y, test_size=0.2, random_state=42)\n"
   ]
  },
  {
   "cell_type": "code",
   "execution_count": 26,
   "id": "8fa005e3",
   "metadata": {},
   "outputs": [],
   "source": [
    "# Standardize the data\n",
    "#scaler = StandardScaler()\n",
    "#X_train = scaler.fit_transform(X_train)\n",
    "#X_test = scaler.transform(X_test)"
   ]
  },
  {
   "cell_type": "code",
   "execution_count": 27,
   "id": "b26e0350",
   "metadata": {},
   "outputs": [
    {
     "name": "stderr",
     "output_type": "stream",
     "text": [
      "C:\\Users\\ryhan\\AppData\\Local\\Temp\\ipykernel_15176\\1354729170.py:8: UserWarning: To copy construct from a tensor, it is recommended to use sourceTensor.clone().detach() or sourceTensor.clone().detach().requires_grad_(True), rather than torch.tensor(sourceTensor).\n",
      "  X_train = torch.tensor(X_train, dtype=torch.float32)\n",
      "C:\\Users\\ryhan\\AppData\\Local\\Temp\\ipykernel_15176\\1354729170.py:9: UserWarning: To copy construct from a tensor, it is recommended to use sourceTensor.clone().detach() or sourceTensor.clone().detach().requires_grad_(True), rather than torch.tensor(sourceTensor).\n",
      "  y_train = torch.tensor(y_train, dtype=torch.long)\n"
     ]
    }
   ],
   "source": [
    "# Check the type of X_train and y_train\n",
    "if isinstance(X_train, (pd.DataFrame, pd.Series)):\n",
    "    X_train = X_train.values\n",
    "if isinstance(y_train, (pd.DataFrame, pd.Series)):\n",
    "    y_train = y_train.values\n",
    "\n",
    "# Convert data to PyTorch tensors\n",
    "X_train = torch.tensor(X_train, dtype=torch.float32)\n",
    "y_train = torch.tensor(y_train, dtype=torch.long)\n",
    "\n",
    "# Adjust labels if needed\n",
    "if y_train.max().item() >= len(set(y_train.numpy())):\n",
    "    y_train -= 1  # Ensuring labels start from 0\n"
   ]
  },
  {
   "cell_type": "markdown",
   "id": "7d9e2a4c",
   "metadata": {},
   "source": [
    "### DNN Model"
   ]
  },
  {
   "cell_type": "code",
   "execution_count": 40,
   "id": "7fb4365d",
   "metadata": {},
   "outputs": [],
   "source": [
    "class WineClassifier(nn.Module):\n",
    "    def __init__(self, input_size):\n",
    "        super(WineClassifier, self).__init__()\n",
    "        self.fc1 = nn.Linear(input_size, 10)\n",
    "        self.fc2 = nn.Linear(10, 10)\n",
    "        self.fc3 = nn.Linear(10, 3)  # 3 classes\n",
    "\n",
    "    def forward(self, x):\n",
    "        x = torch.relu(self.fc1(x))\n",
    "        x = torch.relu(self.fc2(x))\n",
    "        return self.fc3(x)\n"
   ]
  },
  {
   "cell_type": "code",
   "execution_count": null,
   "id": "196b09d6",
   "metadata": {},
   "outputs": [],
   "source": []
  },
  {
   "cell_type": "markdown",
   "id": "8729e8b0",
   "metadata": {},
   "source": [
    "### Model Training"
   ]
  },
  {
   "cell_type": "markdown",
   "id": "a01b31ed",
   "metadata": {},
   "source": [
    "Now, let's preprocess the data and train a classification model."
   ]
  },
  {
   "cell_type": "code",
   "execution_count": 65,
   "id": "48c47d46",
   "metadata": {},
   "outputs": [
    {
     "name": "stdout",
     "output_type": "stream",
     "text": [
      "Epoch 1/100, Loss: 1.0944, Accuracy: 15.49%\n",
      "Epoch 2/100, Loss: 1.0921, Accuracy: 16.90%\n",
      "Epoch 3/100, Loss: 1.0897, Accuracy: 18.31%\n",
      "Epoch 4/100, Loss: 1.0874, Accuracy: 19.01%\n",
      "Epoch 5/100, Loss: 1.0851, Accuracy: 19.72%\n",
      "Epoch 6/100, Loss: 1.0829, Accuracy: 21.83%\n",
      "Epoch 7/100, Loss: 1.0806, Accuracy: 23.24%\n",
      "Epoch 8/100, Loss: 1.0783, Accuracy: 25.35%\n",
      "Epoch 9/100, Loss: 1.0760, Accuracy: 26.06%\n",
      "Epoch 10/100, Loss: 1.0737, Accuracy: 28.17%\n",
      "Epoch 11/100, Loss: 1.0714, Accuracy: 30.28%\n",
      "Epoch 12/100, Loss: 1.0691, Accuracy: 31.69%\n",
      "Epoch 13/100, Loss: 1.0668, Accuracy: 32.39%\n",
      "Epoch 14/100, Loss: 1.0645, Accuracy: 34.51%\n",
      "Epoch 15/100, Loss: 1.0622, Accuracy: 37.32%\n",
      "Epoch 16/100, Loss: 1.0599, Accuracy: 39.44%\n",
      "Epoch 17/100, Loss: 1.0575, Accuracy: 39.44%\n",
      "Epoch 18/100, Loss: 1.0551, Accuracy: 40.14%\n",
      "Epoch 19/100, Loss: 1.0526, Accuracy: 41.55%\n",
      "Epoch 20/100, Loss: 1.0502, Accuracy: 42.96%\n",
      "Epoch 21/100, Loss: 1.0476, Accuracy: 42.25%\n",
      "Epoch 22/100, Loss: 1.0451, Accuracy: 44.37%\n",
      "Epoch 23/100, Loss: 1.0425, Accuracy: 45.07%\n",
      "Epoch 24/100, Loss: 1.0398, Accuracy: 46.48%\n",
      "Epoch 25/100, Loss: 1.0371, Accuracy: 47.18%\n",
      "Epoch 26/100, Loss: 1.0343, Accuracy: 48.59%\n",
      "Epoch 27/100, Loss: 1.0315, Accuracy: 51.41%\n",
      "Epoch 28/100, Loss: 1.0286, Accuracy: 51.41%\n",
      "Epoch 29/100, Loss: 1.0256, Accuracy: 54.23%\n",
      "Epoch 30/100, Loss: 1.0225, Accuracy: 55.63%\n",
      "Epoch 31/100, Loss: 1.0194, Accuracy: 57.75%\n",
      "Epoch 32/100, Loss: 1.0162, Accuracy: 58.45%\n",
      "Epoch 33/100, Loss: 1.0129, Accuracy: 59.86%\n",
      "Epoch 34/100, Loss: 1.0096, Accuracy: 60.56%\n",
      "Epoch 35/100, Loss: 1.0061, Accuracy: 60.56%\n",
      "Epoch 36/100, Loss: 1.0026, Accuracy: 60.56%\n",
      "Epoch 37/100, Loss: 0.9990, Accuracy: 62.68%\n",
      "Epoch 38/100, Loss: 0.9953, Accuracy: 65.49%\n",
      "Epoch 39/100, Loss: 0.9915, Accuracy: 67.61%\n",
      "Epoch 40/100, Loss: 0.9876, Accuracy: 69.01%\n",
      "Epoch 41/100, Loss: 0.9836, Accuracy: 69.72%\n",
      "Epoch 42/100, Loss: 0.9795, Accuracy: 69.72%\n",
      "Epoch 43/100, Loss: 0.9753, Accuracy: 71.13%\n",
      "Epoch 44/100, Loss: 0.9710, Accuracy: 72.54%\n",
      "Epoch 45/100, Loss: 0.9666, Accuracy: 74.65%\n",
      "Epoch 46/100, Loss: 0.9621, Accuracy: 76.06%\n",
      "Epoch 47/100, Loss: 0.9575, Accuracy: 76.76%\n",
      "Epoch 48/100, Loss: 0.9529, Accuracy: 77.46%\n",
      "Epoch 49/100, Loss: 0.9481, Accuracy: 78.87%\n",
      "Epoch 50/100, Loss: 0.9432, Accuracy: 80.99%\n",
      "Epoch 51/100, Loss: 0.9381, Accuracy: 80.99%\n",
      "Epoch 52/100, Loss: 0.9330, Accuracy: 84.51%\n",
      "Epoch 53/100, Loss: 0.9277, Accuracy: 85.21%\n",
      "Epoch 54/100, Loss: 0.9223, Accuracy: 85.92%\n",
      "Epoch 55/100, Loss: 0.9167, Accuracy: 86.62%\n",
      "Epoch 56/100, Loss: 0.9111, Accuracy: 86.62%\n",
      "Epoch 57/100, Loss: 0.9053, Accuracy: 87.32%\n",
      "Epoch 58/100, Loss: 0.8994, Accuracy: 88.03%\n",
      "Epoch 59/100, Loss: 0.8934, Accuracy: 88.73%\n",
      "Epoch 60/100, Loss: 0.8872, Accuracy: 88.73%\n",
      "Epoch 61/100, Loss: 0.8809, Accuracy: 89.44%\n",
      "Epoch 62/100, Loss: 0.8745, Accuracy: 89.44%\n",
      "Epoch 63/100, Loss: 0.8680, Accuracy: 89.44%\n",
      "Epoch 64/100, Loss: 0.8614, Accuracy: 89.44%\n",
      "Epoch 65/100, Loss: 0.8546, Accuracy: 89.44%\n",
      "Epoch 66/100, Loss: 0.8476, Accuracy: 89.44%\n",
      "Epoch 67/100, Loss: 0.8405, Accuracy: 90.14%\n",
      "Epoch 68/100, Loss: 0.8333, Accuracy: 90.85%\n",
      "Epoch 69/100, Loss: 0.8259, Accuracy: 90.85%\n",
      "Epoch 70/100, Loss: 0.8184, Accuracy: 90.85%\n",
      "Epoch 71/100, Loss: 0.8108, Accuracy: 90.85%\n",
      "Epoch 72/100, Loss: 0.8030, Accuracy: 90.85%\n",
      "Epoch 73/100, Loss: 0.7950, Accuracy: 92.25%\n",
      "Epoch 74/100, Loss: 0.7869, Accuracy: 92.25%\n",
      "Epoch 75/100, Loss: 0.7788, Accuracy: 92.25%\n",
      "Epoch 76/100, Loss: 0.7705, Accuracy: 92.25%\n",
      "Epoch 77/100, Loss: 0.7622, Accuracy: 92.25%\n",
      "Epoch 78/100, Loss: 0.7537, Accuracy: 92.25%\n",
      "Epoch 79/100, Loss: 0.7452, Accuracy: 92.96%\n",
      "Epoch 80/100, Loss: 0.7365, Accuracy: 93.66%\n",
      "Epoch 81/100, Loss: 0.7277, Accuracy: 93.66%\n",
      "Epoch 82/100, Loss: 0.7188, Accuracy: 94.37%\n",
      "Epoch 83/100, Loss: 0.7098, Accuracy: 94.37%\n",
      "Epoch 84/100, Loss: 0.7007, Accuracy: 94.37%\n",
      "Epoch 85/100, Loss: 0.6916, Accuracy: 94.37%\n",
      "Epoch 86/100, Loss: 0.6824, Accuracy: 94.37%\n",
      "Epoch 87/100, Loss: 0.6732, Accuracy: 95.07%\n",
      "Epoch 88/100, Loss: 0.6639, Accuracy: 95.07%\n",
      "Epoch 89/100, Loss: 0.6545, Accuracy: 95.07%\n",
      "Epoch 90/100, Loss: 0.6451, Accuracy: 95.07%\n",
      "Epoch 91/100, Loss: 0.6357, Accuracy: 95.07%\n",
      "Epoch 92/100, Loss: 0.6263, Accuracy: 95.07%\n",
      "Epoch 93/100, Loss: 0.6169, Accuracy: 95.07%\n",
      "Epoch 94/100, Loss: 0.6075, Accuracy: 95.07%\n",
      "Epoch 95/100, Loss: 0.5981, Accuracy: 95.07%\n",
      "Epoch 96/100, Loss: 0.5887, Accuracy: 95.07%\n",
      "Epoch 97/100, Loss: 0.5794, Accuracy: 95.07%\n",
      "Epoch 98/100, Loss: 0.5701, Accuracy: 95.07%\n",
      "Epoch 99/100, Loss: 0.5608, Accuracy: 95.07%\n",
      "Epoch 100/100, Loss: 0.5515, Accuracy: 95.07%\n"
     ]
    }
   ],
   "source": [
    "# Instantiate the model, loss function, and optimizer\n",
    "model = WineClassifier(X_train.shape[1])\n",
    "criterion = nn.CrossEntropyLoss()\n",
    "optimizer = optim.Adam(model.parameters(), lr=0.001)\n",
    "\n",
    "# Training loop\n",
    "epochs = 100\n",
    "\n",
    "for epoch in range(epochs):\n",
    "    \n",
    "    # Forward pass\n",
    "    outputs = model(X_train)\n",
    "    loss = criterion(outputs, y_train)\n",
    "\n",
    "    # Compute accuracy\n",
    "    _, predicted = torch.max(outputs.data, 1)\n",
    "    accuracy = (predicted == y_train).float().mean().item() * 100\n",
    "    \n",
    "    # Backward pass and optimization\n",
    "    optimizer.zero_grad()\n",
    "    loss.backward()\n",
    "    optimizer.step()\n",
    "\n",
    "#     if (epoch + 1) % 10 == 0:\n",
    "    print(f\"Epoch {epoch + 1}/{epochs}, Loss: {loss.item():.4f}, Accuracy: {accuracy:.2f}%\")\n"
   ]
  },
  {
   "cell_type": "markdown",
   "id": "8c131ce0",
   "metadata": {},
   "source": [
    "### Evaluate"
   ]
  },
  {
   "cell_type": "code",
   "execution_count": 53,
   "id": "2fb382ec",
   "metadata": {},
   "outputs": [
    {
     "name": "stdout",
     "output_type": "stream",
     "text": [
      "Accuracy: 0.9167\n"
     ]
    }
   ],
   "source": [
    "with torch.no_grad():\n",
    "    y_pred = model(X_test)\n",
    "    y_pred_classes = y_pred.argmax(dim=1)\n",
    "    accuracy = (y_pred_classes == y_test).float().mean()\n",
    "    print(f\"Accuracy: {accuracy:.4f}\")\n"
   ]
  },
  {
   "cell_type": "code",
   "execution_count": null,
   "id": "49ab9443",
   "metadata": {},
   "outputs": [],
   "source": []
  },
  {
   "cell_type": "code",
   "execution_count": null,
   "id": "a003944b",
   "metadata": {},
   "outputs": [],
   "source": []
  }
 ],
 "metadata": {
  "kernelspec": {
   "display_name": "Python 3 (ipykernel)",
   "language": "python",
   "name": "python3"
  },
  "language_info": {
   "codemirror_mode": {
    "name": "ipython",
    "version": 3
   },
   "file_extension": ".py",
   "mimetype": "text/x-python",
   "name": "python",
   "nbconvert_exporter": "python",
   "pygments_lexer": "ipython3",
   "version": "3.11.4"
  }
 },
 "nbformat": 4,
 "nbformat_minor": 5
}
